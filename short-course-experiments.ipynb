{
 "cells": [
  {
   "cell_type": "markdown",
   "metadata": {},
   "source": [
    "# Causal Inference Experiments\n",
    "\n",
    "The purpose of this notebook is to implement the ideas that I had learned throughout the Short Course in Causal Inference taught by Lok, Hernán, Robins, VanderWeele, and Tchetgen-Tchetgen. This will focus on models that estimate the average causal effect (ACE) that have general applicability (i.e. unbiased in time-fixed _and_ time-varying scenarios, assuming certain assumptions are met). Matching, outcome regression, etc., are known to produce biased estimates of ACE in the latter scenario. Instead, we'll be looking at g-formula, mean structural models, structural nested mean models, which have broader applicability. \n",
    "\n",
    "Later, we'll also discuss mediation, instrumental variables, and the do-calculus."
   ]
  },
  {
   "cell_type": "markdown",
   "metadata": {},
   "source": [
    "## Import statements"
   ]
  },
  {
   "cell_type": "code",
   "execution_count": 180,
   "metadata": {},
   "outputs": [],
   "source": [
    "import pandas as pd\n",
    "import numpy as np\n",
    "import pymc3 as pm\n",
    "import matplotlib.pyplot as plt\n",
    "from sklearn.linear_model import LinearRegression\n",
    "import statsmodels.api as sm\n",
    "\n",
    "%matplotlib inline"
   ]
  },
  {
   "cell_type": "markdown",
   "metadata": {},
   "source": [
    "## Time-Fixed Treatments"
   ]
  },
  {
   "cell_type": "markdown",
   "metadata": {},
   "source": [
    "### Average Treatment Effect Over Whole Population"
   ]
  },
  {
   "cell_type": "markdown",
   "metadata": {},
   "source": [
    "Our treatment is X and our outcome is Y. If we were to increase X, how would Y change? Let's say we're interested in seeing the effect of X on Y by increasing X from 0 to 1. One formalization of that is the causal risk difference where X changes from 0 to 1. Using Pearl's $do$-notation, that is $E(Y \\mid do(X=1)) - E(Y \\mid do(X=0))$. Equivalently, in Potential Outcomes notation, it is $E(Y^{X=1}) - E(Y^{X=0})$. We'll be estimating this quantity in different scenarios."
   ]
  },
  {
   "cell_type": "markdown",
   "metadata": {},
   "source": [
    "#### Binary Treatments\n",
    "\n",
    "Let's take the scenario where a confounder masks the effect of treatment. Let's say that the drug does work to improve recovery of people. For example, on average, taking the treatment ($X=1$) improves recovery ($Y=1$), but people with a severe disease ($Z=1$) are more likely to take the drug in the population. For the sake of simplicity, let's assume there's no other confounder.\n",
    "\n",
    "The causal diagram is as follows:\n",
    "\n",
    "![X points to Y. Z points to both X and Y. X points to Y.](img/time-fixed-simple-causal-dag.png) \n",
    "\n",
    "Naively looking at $P(Y=1 \\mid X=1) - P(Y=0 \\mid X=1)$ might make it seem that taking the drug on average makes it worse for people to take the drug. However, we know _a priori_ that it's not the case. We'll show the the drug, on average, is actually good for people in our population. But first, let's generate some data."
   ]
  },
  {
   "cell_type": "code",
   "execution_count": 303,
   "metadata": {},
   "outputs": [],
   "source": [
    "SMALL_SAMPLE_SIZE = 100\n",
    "BIGGER_SAMPLE_SIZE = 1000\n",
    "HUGE_SAMPLE_SIZE=1000000"
   ]
  },
  {
   "cell_type": "code",
   "execution_count": 304,
   "metadata": {},
   "outputs": [],
   "source": [
    "def generate_x(z):\n",
    "    if z == 1: # people with a severe disease\n",
    "        # likely to take the drug\n",
    "        return np.random.binomial(n=1,p=0.8)\n",
    "    else:\n",
    "        return np.random.binomial(n=1,p=0.4)"
   ]
  },
  {
   "cell_type": "code",
   "execution_count": 305,
   "metadata": {},
   "outputs": [],
   "source": [
    "def generate_y(x,z):\n",
    "    if x==0 and z==0: # if take no treatment while not sick\n",
    "        return np.random.binomial(n=1,p=0.9)\n",
    "    elif x==1 and z==1: # if take treatment while sick\n",
    "        return np.random.binomial(n=1,p=0.1)\n",
    "    elif x==0 and z==1: # if don't take treatment while sick\n",
    "        return np.random.binomial(n=1,p=0.05)\n",
    "    else: # if take treatment while not sick\n",
    "        return np.random.binomial(n=1,p=0.9)"
   ]
  },
  {
   "cell_type": "code",
   "execution_count": 306,
   "metadata": {},
   "outputs": [],
   "source": [
    "def generate_confounded_data(sample_size):\n",
    "    z = np.random.binomial(n=1, p=0.9, size=sample_size)\n",
    "    x = pd.Series(z).apply(generate_x)\n",
    "    y = [generate_y(_x,_z) for _x, _z in zip(x,z)]\n",
    "    \n",
    "    return pd.DataFrame({\n",
    "        'z': z,\n",
    "        'x': x,\n",
    "        'y': y\n",
    "    })"
   ]
  },
  {
   "cell_type": "code",
   "execution_count": 309,
   "metadata": {},
   "outputs": [],
   "source": [
    "huge_drug_confounded_df = generate_confounded_data(HUGE_SAMPLE_SIZE)"
   ]
  },
  {
   "cell_type": "markdown",
   "metadata": {},
   "source": [
    "Now, let's compute $P(Y=1 \\mid X=1) - P(Y=0 \\mid X=1)$, also known as the Associative Risk Difference."
   ]
  },
  {
   "cell_type": "code",
   "execution_count": 321,
   "metadata": {},
   "outputs": [
    {
     "name": "stdout",
     "output_type": "stream",
     "text": [
      "The Associative Risk Difference is -0.12\n"
     ]
    }
   ],
   "source": [
    "print(\n",
    "    'The Associative Risk Difference is', \n",
    "    np.round(\n",
    "        huge_drug_confounded_df[huge_drug_confounded_df['x'] == 1]['y'].mean() \\\n",
    "             - huge_drug_confounded_df[huge_drug_confounded_df['x'] == 0]['y'].mean(),\n",
    "        2\n",
    "    )\n",
    ")"
   ]
  },
  {
   "cell_type": "markdown",
   "metadata": {},
   "source": [
    "As seen above, the associative risk difference $P(Y=1 \\mid X=1) - P(Y=1 \\mid X=0)$ is negative! The people who take the drug are worse off than the people who don't take the drug. However, we know this is not the causal estimate of the drug in our population. Those who take the treatment tend to recover less because they were already sick to begin with:\n",
    "\n",
    "![More people with severe cases take the drug than don't](img/time-fixed-incomparable.jpg)\n",
    "\n",
    "In other words, those who were treated and those who weren't treated are not comparable. Severity is a common cause of the treatment and outcome that could explain some of the association between the treatment and outcome. In graphical terms, an open backdoor path between $X$ and $Y$ exists through $X \\leftarrow Z \\rightarrow Y$ that is transmitting spurious association between $X$ and $Y$."
   ]
  },
  {
   "cell_type": "markdown",
   "metadata": {},
   "source": [
    "To find the true effect in our population, we can use the data generating process with a huge sample size to generate 2 sets of data: 1. where we force everyone to take the drug, and 2. where we force everyone not to take the drug.\n",
    "\n",
    "We can then subtract the two and then take the mean to find the causal risk difference:"
   ]
  },
  {
   "cell_type": "code",
   "execution_count": 322,
   "metadata": {},
   "outputs": [
    {
     "name": "stdout",
     "output_type": "stream",
     "text": [
      "The Causal Risk Difference is 0.04\n"
     ]
    }
   ],
   "source": [
    "z = np.random.binomial(n=1, p=0.9, size=HUGE_SAMPLE_SIZE)\n",
    "print(\n",
    "    'The Causal Risk Difference is',\n",
    "    np.round(\n",
    "        (np.array([\n",
    "            generate_y(_x,_z) for _x, _z in zip(np.ones(HUGE_SAMPLE_SIZE),z)\n",
    "        ]) - np.array([\n",
    "            generate_y(_x,_z) for _x, _z in zip(np.zeros(HUGE_SAMPLE_SIZE),z)\n",
    "        ])).mean(),\n",
    "        2\n",
    "    )\n",
    ")"
   ]
  },
  {
   "cell_type": "markdown",
   "metadata": {},
   "source": [
    "We can see now that on average, taking treatment increases recovery by about 4-5 percentage points compared to not taking treatment! This is an unconfounded estimate. This is in contrast to the average associative risk difference of -12 percentage points, which was confounded. Naively looking at the probability of recovery on the treated and untreated would lead to biased estimates when there is confounding, especially in cases where treatment is not randomized, like in observational studies. However, assuming we have access to the right data, we can make adjustments to identify the true effect."
   ]
  },
  {
   "cell_type": "markdown",
   "metadata": {},
   "source": [
    "#### G-Formula\n",
    "\n",
    "If we have no unmeasured confounding, and infinite sample size, we could identify the causal effect of some treatment on an outcome, without having to run a randomized control trial. One way to do so is the G-Formula, which was originally discovered by Robins in 1986 [TODO: insert link here].\n",
    "\n",
    "The G-Formula, which Pearl describes as the Adjustment Formula, for time-fixed treatments is:\n",
    "\n",
    "$$\n",
    "\\begin{equation}\n",
    "\\begin{aligned}\n",
    "    P[Y=1 \\mid do(X=x)] &= \\sum_z P[Y=1 \\mid X=x, Z=z] \\cdot P(Z=z)\n",
    "\\end{aligned}\n",
    "\\end{equation}\n",
    "$$"
   ]
  },
  {
   "cell_type": "markdown",
   "metadata": {},
   "source": [
    "### Derivation A\n",
    "\n",
    "One way to derive this result, as shown by Pearl in [Causal Inference in Statistics: A Primer](http://bayes.cs.ucla.edu/PRIMER/) is to make use of the factorization of the joint distribution:\n",
    "\n",
    "$$\n",
    "\\begin{equation}\n",
    "\\begin{aligned}\n",
    "    P(x_1, ..., x_n) &= \\prod_{i \\subset V} P(x_i \\mid x_{\\text{parents(i)}})\n",
    "\\end{aligned}\n",
    "\\end{equation}\n",
    "$$\n",
    "\n",
    "The joint distribution for the causal graph of our current problem is then:\n",
    "\n",
    "$$\n",
    "\\begin{equation}\n",
    "\\begin{aligned}\n",
    "    P(x, y, z) &= P(y \\mid x, z) \\cdot P(x \\mid z) \\cdot P(z)\n",
    "\\end{aligned}\n",
    "\\end{equation}\n",
    "$$\n",
    "\n",
    "What if treatment was no longer confounded by severity $Z$? For example, let's just say that the drug was randomly assigned to people without regard to their severity status:\n",
    "\n",
    "![Remove arrow from Z to X](img/time-fixed-modified-graph.png)\n",
    "\n",
    "In the modified graph, $X$ no longer listens to $Z$. That would correspond to a modification on the graph where we remove the arrow from $Z$ to $X$. The joint distribution now becomes:\n",
    "\n",
    "$$\n",
    "\\begin{equation}\n",
    "\\begin{aligned}\n",
    "    P_m(X=1, y, z) &= P_m(y \\mid X=1, z) \\cdot P_m(X=1) \\cdot P_m(z)\n",
    "\\end{aligned}\n",
    "\\end{equation}\n",
    "$$\n",
    "\n",
    "Note that the association between $X$ and $Y$ in the modified graph (i.e. $P_m(Y=1 \\mid X=1)$) has a causal interpretation. To get this quantity, we could look at the subset of people where $X=1$, and sum out values for $z$:\n",
    "\n",
    "$$\n",
    "\\begin{equation}\n",
    "\\begin{aligned}\n",
    "    P_m(y, z \\mid X=1) &= \\frac{ P_m(y \\mid X=1, z) \\cdot P_m(X=1) \\cdot P_m(z) }{ P_m(X=1) }\\\\\n",
    "    &= P_m(y \\mid X=1, z) \\cdot P_m(z) \\\\\n",
    "    \\sum_z P_m(y, Z=z \\mid X=1) &= \\sum_z P_m(y \\mid X=1, z) \\cdot P_m(z) \\\\\n",
    "    &= \\sum_z P(y \\mid X=1, Z=z) \\cdot P(Z=z) & \\text{invariance across the two graphs} \\\\\n",
    "    &= P_m(y \\mid X=1)\n",
    "\\end{aligned}\n",
    "\\end{equation}\n",
    "$$\n",
    "\n",
    "We have derived the g-formula for time-fixed treatments! It can be interpreted as the association between treatment $X$ and outcome $Y$ in a world where treatment is no longer confounded by other variables, everything else being the same."
   ]
  },
  {
   "cell_type": "markdown",
   "metadata": {},
   "source": [
    "### Derivation B\n",
    "\n",
    "Another way to derive the G-Formula is through the Single World Intervention Graph (SWIG), which explicitly shows the relationship between the causal diagram and the counterfactuals:\n",
    "\n",
    "![](img/time-fixed-swig)\n",
    "\n",
    "When an intervention is done, $X$ gets split into two nodes. The left is the observed $X$, which depends on $Z$. The right one is the intervention $X=1$. Since this is an intervention, the node $X=1$ (in blue) doesn't have any arrows leading to it. Intervening on the population to give them the same treatment $X=1$ then gives us the counterfactual outcome $Y^{X=1}$. From the SWIG, we can see a path from $X$ to $Y^{X=1}$: $X \\leftarrow Z \\rightarrow Y^{X=1}$. By $d$-separation, we know that conditioning on $Z$ blocks the flow of information between $X$ and $Y^{X=1}$. Thus, we know that $Y^{X=1} \\mathrel{\\unicode{x2AEB}} X \\mid Z$. This is called conditional exchangeability. In other words, having conditioned on $Z$, the observed treatment group $X$ is independent of what we're trying to estimate, $Y^{X=1}$. The treated ($X=1$) and the untreated ($X=0$) are exchangeable / comparable after conditioning on confounder $Z$, as severity $Z$ would then be evenly distributed between the two treatment groups. Because of this even distribution of severity of disease in the two groups, the average treatment effect on either groups should be the same. We'll exploit this in another derivation of the G-Formula:\n",
    "\n",
    "$$\n",
    "\\begin{equation}\n",
    "\\begin{aligned}\n",
    "    P(Y^{X=1}=1) &= \\sum_z P(Y^{X=1}=1, Z=z) \\\\\n",
    "    &= \\sum_z P(Y^{X=1}=1 \\mid Z=z) \\cdot P(Z=z) \\\\\n",
    "    &= \\sum_z P(Y^{X=1}=1 \\mid X=1, Z=z) \\cdot P(Z=z) & \\text{Since }Y^{X=1} \\mathrel{\\unicode{x2AEB}} X \\mid Z \\\\\n",
    "    &= \\sum_z P(Y=1 \\mid X=1, Z=z) \\cdot P(Z=z) & \\text{consistency} \\\\\n",
    "\\end{aligned}\n",
    "\\end{equation}\n",
    "$$\n",
    "\n",
    "The last step uses consistency. In this case, it says that the observed probability of recovery for those who got treated in subpopulation $Z=z$ is the same as the counterfactual outcome $Y^{X=1}=1$ in the subpopulation $Z=z$.\n",
    "\n",
    "Consistency says that the observed outcome for every treated individual equals her outcome if she had received treatment, and that the observed outcome for every untreated individual equals her outcome if she had remained untreated (i.e. $Y^x = Y \\mid X$). Given that we have exchangeability / comparability after having conditioned on $Z$, consistency could then remove the counterfactual from the right-hand side, which means we could identify the causal effect of $X$ on $Y$ given observational data!"
   ]
  },
  {
   "cell_type": "markdown",
   "metadata": {},
   "source": [
    "### Causal Risk Difference via the G-Formula\n",
    "\n",
    "Applying the G-Formula to both $X=1$ and $X=0$ and then subtracting the two gives us the causal risk difference:\n",
    "\n",
    "$$\n",
    "\\begin{equation}\n",
    "\\begin{aligned}\n",
    "    P[Y=1 \\mid do(X=1)] - P[Y=1 \\mid do(X=0)] &= \\sum_z P[Y=1 \\mid X=1, Z=z] \\cdot P(Z=z) - \\sum_z P[Y=1 \\mid X=0, Z=z] \\cdot P(Z=z) \\\\\n",
    "    &= \\sum_z \\big( P[Y=1 \\mid X=1, Z=z] - P[Y=1 \\mid X=0, Z=z] \\big) \\cdot P(Z=z) \\\\\n",
    "\\end{aligned}\n",
    "\\end{equation}\n",
    "$$\n",
    "\n",
    "Note that our strategy for calculating the causal risk difference above, where we force everyone to take the drug vs. force everyone not to take the drug, and then taking the average, is the same as applying the G-Formula! We're basically looking at a weighted average of the observed quantities $P[Y=1 \\mid X=1, Z=z] - P[Y=1 \\mid X=0, Z=z]$, that is, the difference in recovery $Y$ for people who did take the treatment ($X=1$), taking into account their severity ($Z=z$) vs. those who did not take the treatment ($X=0$), also taking into account severity $Z=z$. We weight those differences by the prevalence of the different values of $Z$ in the population (i.e. $P(Z=z)$) and arrive at a causal result through the sum of those weighted differences. We've been applying the G-Formula all along!"
   ]
  },
  {
   "cell_type": "markdown",
   "metadata": {},
   "source": [
    "However, we usually don't have access to the true data generating process, and we usually have a finite / small sample size. Let's see if we can recover the true effect by estimation. Let's generate some sample data first."
   ]
  },
  {
   "cell_type": "code",
   "execution_count": 320,
   "metadata": {},
   "outputs": [],
   "source": [
    "small_sample_drug_confounded_df = generate_confounded_data(SMALL_SAMPLE_SIZE)"
   ]
  },
  {
   "cell_type": "markdown",
   "metadata": {},
   "source": [
    "#### Simple Normal Models\n",
    "\n",
    "Let's say we know the true data-generating process so we can check results of different models later:\n",
    "\n",
    "$$\n",
    "\\begin{equation}\n",
    "\\begin{aligned}\n",
    "    Z_i &\\sim Normal(\\mu=-1, \\sigma=1) \\\\\n",
    "    X_i &\\sim Normal(\\mu=Z_i + 3, \\sigma=1) \\\\\n",
    "    Y_i &\\sim Normal(\\mu=-3X_i + 2Z_i, \\sigma=2) \\\\\n",
    "\\end{aligned}\n",
    "\\end{equation}\n",
    "$$\n",
    "\n",
    "Since this is a simple example, we can see that the average effect of changing $X$ on $Y$ is $-3$, therefore $E(Y \\mid do(X=1)) - E(Y \\mid do(X=0)) = -3$. Now, let's generate some samples and get an intuition of how well Bayesian and frequentist implementations of the g-methods estimate the true causal effect."
   ]
  },
  {
   "cell_type": "markdown",
   "metadata": {},
   "source": [
    "First, let's generate a smaller sample from the data-generating process. We will use this data to estimate the true difference."
   ]
  },
  {
   "cell_type": "code",
   "execution_count": 183,
   "metadata": {},
   "outputs": [],
   "source": [
    "z = np.random.normal(loc=-1, scale=1, size=SMALL_SAMPLE_SIZE) \n",
    "x = np.random.normal(loc=z+3, scale=1)\n",
    "y = np.random.normal(loc=-3*x + 2*z, scale=2)"
   ]
  },
  {
   "cell_type": "code",
   "execution_count": 184,
   "metadata": {},
   "outputs": [
    {
     "data": {
      "text/html": [
       "<div>\n",
       "<style scoped>\n",
       "    .dataframe tbody tr th:only-of-type {\n",
       "        vertical-align: middle;\n",
       "    }\n",
       "\n",
       "    .dataframe tbody tr th {\n",
       "        vertical-align: top;\n",
       "    }\n",
       "\n",
       "    .dataframe thead th {\n",
       "        text-align: right;\n",
       "    }\n",
       "</style>\n",
       "<table border=\"1\" class=\"dataframe\">\n",
       "  <thead>\n",
       "    <tr style=\"text-align: right;\">\n",
       "      <th></th>\n",
       "      <th>x</th>\n",
       "      <th>z</th>\n",
       "      <th>y</th>\n",
       "      <th>ones</th>\n",
       "      <th>zeros</th>\n",
       "    </tr>\n",
       "  </thead>\n",
       "  <tbody>\n",
       "    <tr>\n",
       "      <th>0</th>\n",
       "      <td>2.467009</td>\n",
       "      <td>-0.147090</td>\n",
       "      <td>-4.780203</td>\n",
       "      <td>1</td>\n",
       "      <td>0</td>\n",
       "    </tr>\n",
       "    <tr>\n",
       "      <th>1</th>\n",
       "      <td>2.291504</td>\n",
       "      <td>-0.947474</td>\n",
       "      <td>-10.670062</td>\n",
       "      <td>1</td>\n",
       "      <td>0</td>\n",
       "    </tr>\n",
       "    <tr>\n",
       "      <th>2</th>\n",
       "      <td>3.257408</td>\n",
       "      <td>-1.206429</td>\n",
       "      <td>-13.572128</td>\n",
       "      <td>1</td>\n",
       "      <td>0</td>\n",
       "    </tr>\n",
       "    <tr>\n",
       "      <th>3</th>\n",
       "      <td>1.792357</td>\n",
       "      <td>-0.084401</td>\n",
       "      <td>0.911804</td>\n",
       "      <td>1</td>\n",
       "      <td>0</td>\n",
       "    </tr>\n",
       "    <tr>\n",
       "      <th>4</th>\n",
       "      <td>1.175717</td>\n",
       "      <td>-1.041898</td>\n",
       "      <td>-6.815395</td>\n",
       "      <td>1</td>\n",
       "      <td>0</td>\n",
       "    </tr>\n",
       "    <tr>\n",
       "      <th>5</th>\n",
       "      <td>1.627591</td>\n",
       "      <td>-0.645818</td>\n",
       "      <td>-8.565036</td>\n",
       "      <td>1</td>\n",
       "      <td>0</td>\n",
       "    </tr>\n",
       "    <tr>\n",
       "      <th>6</th>\n",
       "      <td>2.200413</td>\n",
       "      <td>-1.140263</td>\n",
       "      <td>-7.486187</td>\n",
       "      <td>1</td>\n",
       "      <td>0</td>\n",
       "    </tr>\n",
       "    <tr>\n",
       "      <th>7</th>\n",
       "      <td>-0.557393</td>\n",
       "      <td>-2.765862</td>\n",
       "      <td>-5.421241</td>\n",
       "      <td>1</td>\n",
       "      <td>0</td>\n",
       "    </tr>\n",
       "    <tr>\n",
       "      <th>8</th>\n",
       "      <td>1.208233</td>\n",
       "      <td>-0.391662</td>\n",
       "      <td>-4.986591</td>\n",
       "      <td>1</td>\n",
       "      <td>0</td>\n",
       "    </tr>\n",
       "    <tr>\n",
       "      <th>9</th>\n",
       "      <td>0.786288</td>\n",
       "      <td>-0.215116</td>\n",
       "      <td>-3.490922</td>\n",
       "      <td>1</td>\n",
       "      <td>0</td>\n",
       "    </tr>\n",
       "    <tr>\n",
       "      <th>10</th>\n",
       "      <td>2.012526</td>\n",
       "      <td>-1.307155</td>\n",
       "      <td>-8.149232</td>\n",
       "      <td>1</td>\n",
       "      <td>0</td>\n",
       "    </tr>\n",
       "    <tr>\n",
       "      <th>11</th>\n",
       "      <td>1.535140</td>\n",
       "      <td>-1.679371</td>\n",
       "      <td>-7.904762</td>\n",
       "      <td>1</td>\n",
       "      <td>0</td>\n",
       "    </tr>\n",
       "    <tr>\n",
       "      <th>12</th>\n",
       "      <td>1.156309</td>\n",
       "      <td>-2.297920</td>\n",
       "      <td>-7.770958</td>\n",
       "      <td>1</td>\n",
       "      <td>0</td>\n",
       "    </tr>\n",
       "    <tr>\n",
       "      <th>13</th>\n",
       "      <td>2.247452</td>\n",
       "      <td>-0.385493</td>\n",
       "      <td>-8.181149</td>\n",
       "      <td>1</td>\n",
       "      <td>0</td>\n",
       "    </tr>\n",
       "    <tr>\n",
       "      <th>14</th>\n",
       "      <td>0.523144</td>\n",
       "      <td>-1.615565</td>\n",
       "      <td>-4.908185</td>\n",
       "      <td>1</td>\n",
       "      <td>0</td>\n",
       "    </tr>\n",
       "    <tr>\n",
       "      <th>15</th>\n",
       "      <td>2.131379</td>\n",
       "      <td>-2.136099</td>\n",
       "      <td>-10.091319</td>\n",
       "      <td>1</td>\n",
       "      <td>0</td>\n",
       "    </tr>\n",
       "    <tr>\n",
       "      <th>16</th>\n",
       "      <td>2.176622</td>\n",
       "      <td>-1.539685</td>\n",
       "      <td>-10.553064</td>\n",
       "      <td>1</td>\n",
       "      <td>0</td>\n",
       "    </tr>\n",
       "    <tr>\n",
       "      <th>17</th>\n",
       "      <td>-0.583272</td>\n",
       "      <td>-2.074907</td>\n",
       "      <td>-5.196910</td>\n",
       "      <td>1</td>\n",
       "      <td>0</td>\n",
       "    </tr>\n",
       "    <tr>\n",
       "      <th>18</th>\n",
       "      <td>3.241637</td>\n",
       "      <td>-1.046667</td>\n",
       "      <td>-10.786605</td>\n",
       "      <td>1</td>\n",
       "      <td>0</td>\n",
       "    </tr>\n",
       "    <tr>\n",
       "      <th>19</th>\n",
       "      <td>3.172927</td>\n",
       "      <td>0.170966</td>\n",
       "      <td>-7.412419</td>\n",
       "      <td>1</td>\n",
       "      <td>0</td>\n",
       "    </tr>\n",
       "    <tr>\n",
       "      <th>20</th>\n",
       "      <td>2.543514</td>\n",
       "      <td>-0.267723</td>\n",
       "      <td>-12.559198</td>\n",
       "      <td>1</td>\n",
       "      <td>0</td>\n",
       "    </tr>\n",
       "    <tr>\n",
       "      <th>21</th>\n",
       "      <td>0.702948</td>\n",
       "      <td>-0.801070</td>\n",
       "      <td>-4.597659</td>\n",
       "      <td>1</td>\n",
       "      <td>0</td>\n",
       "    </tr>\n",
       "    <tr>\n",
       "      <th>22</th>\n",
       "      <td>3.174896</td>\n",
       "      <td>-0.783493</td>\n",
       "      <td>-10.631552</td>\n",
       "      <td>1</td>\n",
       "      <td>0</td>\n",
       "    </tr>\n",
       "    <tr>\n",
       "      <th>23</th>\n",
       "      <td>2.679452</td>\n",
       "      <td>0.729547</td>\n",
       "      <td>-7.569097</td>\n",
       "      <td>1</td>\n",
       "      <td>0</td>\n",
       "    </tr>\n",
       "    <tr>\n",
       "      <th>24</th>\n",
       "      <td>0.268885</td>\n",
       "      <td>-0.980749</td>\n",
       "      <td>-4.281734</td>\n",
       "      <td>1</td>\n",
       "      <td>0</td>\n",
       "    </tr>\n",
       "    <tr>\n",
       "      <th>25</th>\n",
       "      <td>2.288414</td>\n",
       "      <td>-1.031425</td>\n",
       "      <td>-8.571639</td>\n",
       "      <td>1</td>\n",
       "      <td>0</td>\n",
       "    </tr>\n",
       "    <tr>\n",
       "      <th>26</th>\n",
       "      <td>1.548552</td>\n",
       "      <td>0.408796</td>\n",
       "      <td>-3.431961</td>\n",
       "      <td>1</td>\n",
       "      <td>0</td>\n",
       "    </tr>\n",
       "    <tr>\n",
       "      <th>27</th>\n",
       "      <td>1.010533</td>\n",
       "      <td>-0.947536</td>\n",
       "      <td>-6.329132</td>\n",
       "      <td>1</td>\n",
       "      <td>0</td>\n",
       "    </tr>\n",
       "    <tr>\n",
       "      <th>28</th>\n",
       "      <td>1.142602</td>\n",
       "      <td>-1.239020</td>\n",
       "      <td>-1.646352</td>\n",
       "      <td>1</td>\n",
       "      <td>0</td>\n",
       "    </tr>\n",
       "    <tr>\n",
       "      <th>29</th>\n",
       "      <td>3.045039</td>\n",
       "      <td>-1.063978</td>\n",
       "      <td>-12.034372</td>\n",
       "      <td>1</td>\n",
       "      <td>0</td>\n",
       "    </tr>\n",
       "    <tr>\n",
       "      <th>...</th>\n",
       "      <td>...</td>\n",
       "      <td>...</td>\n",
       "      <td>...</td>\n",
       "      <td>...</td>\n",
       "      <td>...</td>\n",
       "    </tr>\n",
       "    <tr>\n",
       "      <th>70</th>\n",
       "      <td>-0.332511</td>\n",
       "      <td>-1.836928</td>\n",
       "      <td>-5.590109</td>\n",
       "      <td>1</td>\n",
       "      <td>0</td>\n",
       "    </tr>\n",
       "    <tr>\n",
       "      <th>71</th>\n",
       "      <td>2.481760</td>\n",
       "      <td>-1.234466</td>\n",
       "      <td>-7.697934</td>\n",
       "      <td>1</td>\n",
       "      <td>0</td>\n",
       "    </tr>\n",
       "    <tr>\n",
       "      <th>72</th>\n",
       "      <td>2.627933</td>\n",
       "      <td>-2.076013</td>\n",
       "      <td>-11.447522</td>\n",
       "      <td>1</td>\n",
       "      <td>0</td>\n",
       "    </tr>\n",
       "    <tr>\n",
       "      <th>73</th>\n",
       "      <td>-2.319422</td>\n",
       "      <td>-3.357411</td>\n",
       "      <td>-0.815495</td>\n",
       "      <td>1</td>\n",
       "      <td>0</td>\n",
       "    </tr>\n",
       "    <tr>\n",
       "      <th>74</th>\n",
       "      <td>2.052868</td>\n",
       "      <td>-0.562233</td>\n",
       "      <td>-5.966561</td>\n",
       "      <td>1</td>\n",
       "      <td>0</td>\n",
       "    </tr>\n",
       "    <tr>\n",
       "      <th>75</th>\n",
       "      <td>-1.191869</td>\n",
       "      <td>-2.203948</td>\n",
       "      <td>-3.723666</td>\n",
       "      <td>1</td>\n",
       "      <td>0</td>\n",
       "    </tr>\n",
       "    <tr>\n",
       "      <th>76</th>\n",
       "      <td>2.841927</td>\n",
       "      <td>-0.850317</td>\n",
       "      <td>-10.392423</td>\n",
       "      <td>1</td>\n",
       "      <td>0</td>\n",
       "    </tr>\n",
       "    <tr>\n",
       "      <th>77</th>\n",
       "      <td>3.580507</td>\n",
       "      <td>-0.972358</td>\n",
       "      <td>-15.203656</td>\n",
       "      <td>1</td>\n",
       "      <td>0</td>\n",
       "    </tr>\n",
       "    <tr>\n",
       "      <th>78</th>\n",
       "      <td>2.629767</td>\n",
       "      <td>-1.278504</td>\n",
       "      <td>-10.116639</td>\n",
       "      <td>1</td>\n",
       "      <td>0</td>\n",
       "    </tr>\n",
       "    <tr>\n",
       "      <th>79</th>\n",
       "      <td>4.898855</td>\n",
       "      <td>1.850691</td>\n",
       "      <td>-9.422378</td>\n",
       "      <td>1</td>\n",
       "      <td>0</td>\n",
       "    </tr>\n",
       "    <tr>\n",
       "      <th>80</th>\n",
       "      <td>-0.015635</td>\n",
       "      <td>-1.863162</td>\n",
       "      <td>-1.442404</td>\n",
       "      <td>1</td>\n",
       "      <td>0</td>\n",
       "    </tr>\n",
       "    <tr>\n",
       "      <th>81</th>\n",
       "      <td>4.533851</td>\n",
       "      <td>1.376037</td>\n",
       "      <td>-11.349528</td>\n",
       "      <td>1</td>\n",
       "      <td>0</td>\n",
       "    </tr>\n",
       "    <tr>\n",
       "      <th>82</th>\n",
       "      <td>1.846084</td>\n",
       "      <td>-1.046087</td>\n",
       "      <td>-7.669328</td>\n",
       "      <td>1</td>\n",
       "      <td>0</td>\n",
       "    </tr>\n",
       "    <tr>\n",
       "      <th>83</th>\n",
       "      <td>1.289558</td>\n",
       "      <td>-0.107128</td>\n",
       "      <td>-6.127846</td>\n",
       "      <td>1</td>\n",
       "      <td>0</td>\n",
       "    </tr>\n",
       "    <tr>\n",
       "      <th>84</th>\n",
       "      <td>2.995444</td>\n",
       "      <td>-0.211390</td>\n",
       "      <td>-8.978880</td>\n",
       "      <td>1</td>\n",
       "      <td>0</td>\n",
       "    </tr>\n",
       "    <tr>\n",
       "      <th>85</th>\n",
       "      <td>0.774960</td>\n",
       "      <td>-2.432368</td>\n",
       "      <td>-10.354483</td>\n",
       "      <td>1</td>\n",
       "      <td>0</td>\n",
       "    </tr>\n",
       "    <tr>\n",
       "      <th>86</th>\n",
       "      <td>5.871706</td>\n",
       "      <td>0.636077</td>\n",
       "      <td>-13.848139</td>\n",
       "      <td>1</td>\n",
       "      <td>0</td>\n",
       "    </tr>\n",
       "    <tr>\n",
       "      <th>87</th>\n",
       "      <td>4.442788</td>\n",
       "      <td>0.273215</td>\n",
       "      <td>-8.458384</td>\n",
       "      <td>1</td>\n",
       "      <td>0</td>\n",
       "    </tr>\n",
       "    <tr>\n",
       "      <th>88</th>\n",
       "      <td>1.923136</td>\n",
       "      <td>-1.300567</td>\n",
       "      <td>-9.590436</td>\n",
       "      <td>1</td>\n",
       "      <td>0</td>\n",
       "    </tr>\n",
       "    <tr>\n",
       "      <th>89</th>\n",
       "      <td>1.274030</td>\n",
       "      <td>-3.257229</td>\n",
       "      <td>-8.536652</td>\n",
       "      <td>1</td>\n",
       "      <td>0</td>\n",
       "    </tr>\n",
       "    <tr>\n",
       "      <th>90</th>\n",
       "      <td>0.138747</td>\n",
       "      <td>-2.453723</td>\n",
       "      <td>-7.342408</td>\n",
       "      <td>1</td>\n",
       "      <td>0</td>\n",
       "    </tr>\n",
       "    <tr>\n",
       "      <th>91</th>\n",
       "      <td>3.063158</td>\n",
       "      <td>-0.155390</td>\n",
       "      <td>-9.648604</td>\n",
       "      <td>1</td>\n",
       "      <td>0</td>\n",
       "    </tr>\n",
       "    <tr>\n",
       "      <th>92</th>\n",
       "      <td>2.739117</td>\n",
       "      <td>-0.879534</td>\n",
       "      <td>-11.518761</td>\n",
       "      <td>1</td>\n",
       "      <td>0</td>\n",
       "    </tr>\n",
       "    <tr>\n",
       "      <th>93</th>\n",
       "      <td>2.749587</td>\n",
       "      <td>-0.987893</td>\n",
       "      <td>-11.433521</td>\n",
       "      <td>1</td>\n",
       "      <td>0</td>\n",
       "    </tr>\n",
       "    <tr>\n",
       "      <th>94</th>\n",
       "      <td>0.989219</td>\n",
       "      <td>-3.156315</td>\n",
       "      <td>-7.236252</td>\n",
       "      <td>1</td>\n",
       "      <td>0</td>\n",
       "    </tr>\n",
       "    <tr>\n",
       "      <th>95</th>\n",
       "      <td>-0.153580</td>\n",
       "      <td>-2.379648</td>\n",
       "      <td>-7.262654</td>\n",
       "      <td>1</td>\n",
       "      <td>0</td>\n",
       "    </tr>\n",
       "    <tr>\n",
       "      <th>96</th>\n",
       "      <td>2.101409</td>\n",
       "      <td>-1.839073</td>\n",
       "      <td>-9.536526</td>\n",
       "      <td>1</td>\n",
       "      <td>0</td>\n",
       "    </tr>\n",
       "    <tr>\n",
       "      <th>97</th>\n",
       "      <td>2.502429</td>\n",
       "      <td>-0.878411</td>\n",
       "      <td>-9.976592</td>\n",
       "      <td>1</td>\n",
       "      <td>0</td>\n",
       "    </tr>\n",
       "    <tr>\n",
       "      <th>98</th>\n",
       "      <td>1.584645</td>\n",
       "      <td>-0.398407</td>\n",
       "      <td>-4.832650</td>\n",
       "      <td>1</td>\n",
       "      <td>0</td>\n",
       "    </tr>\n",
       "    <tr>\n",
       "      <th>99</th>\n",
       "      <td>1.025127</td>\n",
       "      <td>-0.982942</td>\n",
       "      <td>-5.609470</td>\n",
       "      <td>1</td>\n",
       "      <td>0</td>\n",
       "    </tr>\n",
       "  </tbody>\n",
       "</table>\n",
       "<p>100 rows × 5 columns</p>\n",
       "</div>"
      ],
      "text/plain": [
       "           x         z          y  ones  zeros\n",
       "0   2.467009 -0.147090  -4.780203     1      0\n",
       "1   2.291504 -0.947474 -10.670062     1      0\n",
       "2   3.257408 -1.206429 -13.572128     1      0\n",
       "3   1.792357 -0.084401   0.911804     1      0\n",
       "4   1.175717 -1.041898  -6.815395     1      0\n",
       "5   1.627591 -0.645818  -8.565036     1      0\n",
       "6   2.200413 -1.140263  -7.486187     1      0\n",
       "7  -0.557393 -2.765862  -5.421241     1      0\n",
       "8   1.208233 -0.391662  -4.986591     1      0\n",
       "9   0.786288 -0.215116  -3.490922     1      0\n",
       "10  2.012526 -1.307155  -8.149232     1      0\n",
       "11  1.535140 -1.679371  -7.904762     1      0\n",
       "12  1.156309 -2.297920  -7.770958     1      0\n",
       "13  2.247452 -0.385493  -8.181149     1      0\n",
       "14  0.523144 -1.615565  -4.908185     1      0\n",
       "15  2.131379 -2.136099 -10.091319     1      0\n",
       "16  2.176622 -1.539685 -10.553064     1      0\n",
       "17 -0.583272 -2.074907  -5.196910     1      0\n",
       "18  3.241637 -1.046667 -10.786605     1      0\n",
       "19  3.172927  0.170966  -7.412419     1      0\n",
       "20  2.543514 -0.267723 -12.559198     1      0\n",
       "21  0.702948 -0.801070  -4.597659     1      0\n",
       "22  3.174896 -0.783493 -10.631552     1      0\n",
       "23  2.679452  0.729547  -7.569097     1      0\n",
       "24  0.268885 -0.980749  -4.281734     1      0\n",
       "25  2.288414 -1.031425  -8.571639     1      0\n",
       "26  1.548552  0.408796  -3.431961     1      0\n",
       "27  1.010533 -0.947536  -6.329132     1      0\n",
       "28  1.142602 -1.239020  -1.646352     1      0\n",
       "29  3.045039 -1.063978 -12.034372     1      0\n",
       "..       ...       ...        ...   ...    ...\n",
       "70 -0.332511 -1.836928  -5.590109     1      0\n",
       "71  2.481760 -1.234466  -7.697934     1      0\n",
       "72  2.627933 -2.076013 -11.447522     1      0\n",
       "73 -2.319422 -3.357411  -0.815495     1      0\n",
       "74  2.052868 -0.562233  -5.966561     1      0\n",
       "75 -1.191869 -2.203948  -3.723666     1      0\n",
       "76  2.841927 -0.850317 -10.392423     1      0\n",
       "77  3.580507 -0.972358 -15.203656     1      0\n",
       "78  2.629767 -1.278504 -10.116639     1      0\n",
       "79  4.898855  1.850691  -9.422378     1      0\n",
       "80 -0.015635 -1.863162  -1.442404     1      0\n",
       "81  4.533851  1.376037 -11.349528     1      0\n",
       "82  1.846084 -1.046087  -7.669328     1      0\n",
       "83  1.289558 -0.107128  -6.127846     1      0\n",
       "84  2.995444 -0.211390  -8.978880     1      0\n",
       "85  0.774960 -2.432368 -10.354483     1      0\n",
       "86  5.871706  0.636077 -13.848139     1      0\n",
       "87  4.442788  0.273215  -8.458384     1      0\n",
       "88  1.923136 -1.300567  -9.590436     1      0\n",
       "89  1.274030 -3.257229  -8.536652     1      0\n",
       "90  0.138747 -2.453723  -7.342408     1      0\n",
       "91  3.063158 -0.155390  -9.648604     1      0\n",
       "92  2.739117 -0.879534 -11.518761     1      0\n",
       "93  2.749587 -0.987893 -11.433521     1      0\n",
       "94  0.989219 -3.156315  -7.236252     1      0\n",
       "95 -0.153580 -2.379648  -7.262654     1      0\n",
       "96  2.101409 -1.839073  -9.536526     1      0\n",
       "97  2.502429 -0.878411  -9.976592     1      0\n",
       "98  1.584645 -0.398407  -4.832650     1      0\n",
       "99  1.025127 -0.982942  -5.609470     1      0\n",
       "\n",
       "[100 rows x 5 columns]"
      ]
     },
     "execution_count": 184,
     "metadata": {},
     "output_type": "execute_result"
    }
   ],
   "source": [
    "df = pd.DataFrame({\n",
    "    'x': x,\n",
    "    'z': z,\n",
    "    'y': y,\n",
    "    'ones': 1,\n",
    "    'zeros': 0\n",
    "})\n",
    "\n",
    "df"
   ]
  },
  {
   "cell_type": "markdown",
   "metadata": {},
   "source": [
    "First, let's do Bayesian estimation. In Bayesian analyses, we can make educated guesses about what the parameters are by the use of priors.\n",
    "\n",
    "$$\n",
    "\\begin{equation}\n",
    "\\begin{aligned}\n",
    "    Y_i &\\sim Normal(\\mu=\\beta_X \\cdot X_i + \\beta_Z \\cdot Z_i, \\sigma=\\sigma_Y) \\\\\n",
    "    \\sigma_Y &\\sim HalfNormal(\\sigma=3) \\\\\n",
    "    \\beta_Z &\\sim Normal(\\mu=0, \\sigma=3) \\\\\n",
    "    \\beta_X &\\sim Normal(\\mu=0, \\sigma=3) \\\\\n",
    "    X_i &\\sim Normal(\\mu=Z_i + \\alpha_X, \\sigma=\\sigma_X) \\\\\n",
    "    \\sigma_X &\\sim HalfNormal(\\sigma=3) \\\\\n",
    "    \\alpha_X &\\sim Normal(\\mu=0, \\sigma=3) \\\\\n",
    "    Z_i &\\sim Normal(\\mu=\\mu_Z, \\sigma=1) \\\\\n",
    "    \\mu_Z &\\sim Normal(\\mu=0, \\sigma=3) \\\\\n",
    "\\end{aligned}\n",
    "\\end{equation}\n",
    "$$"
   ]
  },
  {
   "cell_type": "markdown",
   "metadata": {},
   "source": []
  },
  {
   "cell_type": "code",
   "execution_count": 185,
   "metadata": {},
   "outputs": [
    {
     "name": "stderr",
     "output_type": "stream",
     "text": [
      "INFO (theano.gof.compilelock): Refreshing lock /Users/eddericugaddan/.theano/compiledir_Darwin-18.5.0-x86_64-i386-64bit-i386-3.7.3-64/lock_dir/lock\n",
      "Auto-assigning NUTS sampler...\n",
      "Initializing NUTS using jitter+adapt_diag...\n",
      "Multiprocess sampling (4 chains in 4 jobs)\n",
      "NUTS: [beta_Z, beta_X, y_sd, x_sd, alpha_x, z_mu]\n",
      "Sampling 4 chains: 100%|██████████| 4000/4000 [00:01<00:00, 2058.66draws/s]\n"
     ]
    }
   ],
   "source": [
    "with pm.Model() as time_fixed_model:\n",
    "    z_mu = pm.Normal('z_mu', mu=0, sd=3) # weakly-informative prior\n",
    "    z_var = pm.Normal('z', mu=z_mu, sd=1, observed=z)\n",
    "    \n",
    "    alpha_x = pm.Normal('alpha_x', 0, 3)\n",
    "    x_var_sd = pm.HalfNormal('x_sd', sd=3)\n",
    "    x_var = pm.Normal('x', mu=z_var + alpha_x, sd=x_var_sd, observed=x)\n",
    "    \n",
    "    y_var_sd = pm.HalfNormal('y_sd', sd=3)\n",
    "    \n",
    "    beta_X = pm.Normal('beta_X', mu=0, sd=3)\n",
    "    beta_Z = pm.Normal('beta_Z', mu=0, sd=3)\n",
    "    \n",
    "    y_mu = beta_X * x_var + beta_Z * z_var\n",
    "    y_var = pm.Normal('y', mu=y_mu, sd=y_var_sd, observed=y)\n",
    "    \n",
    "    time_fixed_traces = pm.sample(traces=1000)"
   ]
  },
  {
   "cell_type": "code",
   "execution_count": 186,
   "metadata": {},
   "outputs": [
    {
     "data": {
      "text/plain": [
       "GridSpec(1, 2, width_ratios=[3, 1])"
      ]
     },
     "execution_count": 186,
     "metadata": {},
     "output_type": "execute_result"
    },
    {
     "data": {
      "image/png": "[encoded data removed]",
      "text/plain": [
       "<Figure size 432x288 with 2 Axes>"
      ]
     },
     "metadata": {
      "needs_background": "light"
     },
     "output_type": "display_data"
    }
   ],
   "source": [
    "pm.forestplot(time_fixed_traces)"
   ]
  },
  {
   "cell_type": "markdown",
   "metadata": {},
   "source": [
    "Based on the plot above, the true parameters are right in the middle of the credible intervals. Great! Now that we've computed the posterior distribution, let's use it to compute estimates."
   ]
  },
  {
   "cell_type": "code",
   "execution_count": null,
   "metadata": {},
   "outputs": [],
   "source": []
  },
  {
   "cell_type": "markdown",
   "metadata": {},
   "source": [
    "#### G-Formula\n",
    "\n",
    "The G-Formula for the specific problem above is:\n",
    "\n",
    "$$\n",
    "\\begin{equation}\n",
    "\\begin{aligned}\n",
    "    E[Y \\mid do(X=x)] &= \\sum_l E[Y \\mid X=x, Z=z] \\cdot P(Z=z)\n",
    "\\end{aligned}\n",
    "\\end{equation}\n",
    "$$\n",
    "\n",
    "We can estimate this quantity by creating a model for $\\sum_l E[Y \\mid X=x, Z=z]$ "
   ]
  },
  {
   "cell_type": "code",
   "execution_count": 187,
   "metadata": {},
   "outputs": [],
   "source": [
    "def frequentist_g_formula_sklearn(df, bootstrap_size):\n",
    "    \n",
    "    model = LinearRegression()\n",
    "\n",
    "    for i in range(bootstrap_size):\n",
    "        sample = df.sample(df.shape[0], replace=True)\n",
    "        model.fit(sample[['x','z']], sample['y'])\n",
    "        \n",
    "        # compute mean causal effect\n",
    "        y_do_x_eq_1 = model.predict(sample[['ones', 'z']])\n",
    "        y_do_x_eq_0 = model.predict(sample[['zeros', 'z']])\n",
    "        \n",
    "        means.append((y_do_x_eq_1 - y_do_x_eq_0).mean())\n",
    "        \n",
    "    return pd.Series(means)\n",
    "\n",
    "    "
   ]
  },
  {
   "cell_type": "code",
   "execution_count": 188,
   "metadata": {},
   "outputs": [],
   "source": [
    "def frequentist_g_formula_statsmodels(df, bootstrap_size):\n",
    "    \n",
    "    for i in range(bootstrap_size):\n",
    "        sample = df.sample(df.shape[0], replace=True)\n",
    "        \n",
    "        ols = sm.OLS(endog=sample['y'], exog=sample[['x', 'z']]) \n",
    "        model = ols.fit()\n",
    "        \n",
    "        # compute mean causal effect\n",
    "        y_do_x_eq_1 = model.predict(sample[['ones', 'z']])\n",
    "        y_do_x_eq_0 = model.predict(sample[['zeros', 'z']])\n",
    "        \n",
    "        means.append((y_do_x_eq_1 - y_do_x_eq_0).mean())\n",
    "        \n",
    "    return pd.Series(means)\n",
    "\n",
    "    "
   ]
  },
  {
   "cell_type": "code",
   "execution_count": 189,
   "metadata": {},
   "outputs": [],
   "source": [
    "freq_bootstrap = frequentist_g_formula_sklearn(df, bootstrap_size=len(time_fixed_traces['x_sd']))"
   ]
  },
  {
   "cell_type": "code",
   "execution_count": 190,
   "metadata": {},
   "outputs": [
    {
     "data": {
      "text/plain": [
       "-3.2297273839038514"
      ]
     },
     "execution_count": 190,
     "metadata": {},
     "output_type": "execute_result"
    }
   ],
   "source": [
    "freq_bootstrap.mean()"
   ]
  },
  {
   "cell_type": "code",
   "execution_count": 191,
   "metadata": {},
   "outputs": [],
   "source": [
    "freq_bootstrap_statsmodels = frequentist_g_formula_statsmodels(df, bootstrap_size=len(time_fixed_traces['x_sd']))"
   ]
  },
  {
   "cell_type": "code",
   "execution_count": 192,
   "metadata": {},
   "outputs": [
    {
     "data": {
      "text/plain": [
       "-3.1809761647711214"
      ]
     },
     "execution_count": 192,
     "metadata": {},
     "output_type": "execute_result"
    }
   ],
   "source": [
    "freq_bootstrap_statsmodels.mean()"
   ]
  },
  {
   "cell_type": "code",
   "execution_count": 200,
   "metadata": {},
   "outputs": [],
   "source": [
    "def summarize(model_name, samples, lower=2.5, upper=97.5, interval='confidence'):\n",
    "    return  model_name + ': The 95% ' + interval + ' interval when applying the parametric g-formula is (' + \\\n",
    "        str(np.round(np.percentile(samples, lower), 2)) + ', '  + \\\n",
    "        str(np.round(np.percentile(samples, upper), 2)) + \\\n",
    "        ') with mean ' + str(np.round(samples.mean(), 2))\n",
    "\n"
   ]
  },
  {
   "cell_type": "code",
   "execution_count": null,
   "metadata": {},
   "outputs": [],
   "source": []
  },
  {
   "cell_type": "code",
   "execution_count": 201,
   "metadata": {},
   "outputs": [],
   "source": [
    "def bayesian_g_formula(traces, df):\n",
    "    means = []\n",
    "    for i in range(len(traces['x_sd'])):\n",
    "        new_z = df.sample(100, replace=True)['z']\n",
    "        y_1 = traces['beta_X'][i] * 1 + traces['beta_Z'][i] * new_z\n",
    "        y_0 = traces['beta_X'][i] * 0 + traces['beta_Z'][i] * new_z\n",
    "        means.append((y_1 - y_0).mean())\n",
    "        \n",
    "    return pd.Series(means)"
   ]
  },
  {
   "cell_type": "code",
   "execution_count": 202,
   "metadata": {},
   "outputs": [],
   "source": [
    "bayesian_estimates = bayesian_g_formula(time_fixed_traces, df)"
   ]
  },
  {
   "cell_type": "code",
   "execution_count": 203,
   "metadata": {},
   "outputs": [],
   "source": [
    "results = [\n",
    "    {\n",
    "        'model_name': 'Scikit Learn',\n",
    "        'samples': freq_bootstrap,\n",
    "        'interval': 'confidence',\n",
    "        'samples_type': 'bootstrap'\n",
    "    },\n",
    "    {\n",
    "        'model_name': 'Statsmodels',\n",
    "        'samples': freq_bootstrap_statsmodels,\n",
    "        'interval': 'confidence',\n",
    "        'samples_type': 'bootstrap'\n",
    "    },\n",
    "    {\n",
    "        'model_name': 'PyMC3',\n",
    "        'samples': bayesian_estimates,\n",
    "        'interval': 'credible',\n",
    "        'samples_type': 'posterior predictive'\n",
    "    }\n",
    "]\n"
   ]
  },
  {
   "cell_type": "code",
   "execution_count": 204,
   "metadata": {},
   "outputs": [
    {
     "name": "stdout",
     "output_type": "stream",
     "text": [
      "Scikit Learn: The 95% confidence interval when applying the parametric g-formula is (-4.03, -2.57) with mean -3.23\n",
      "Statsmodels: The 95% confidence interval when applying the parametric g-formula is (-4.01, -2.59) with mean -3.18\n",
      "PyMC3: The 95% credible interval when applying the parametric g-formula is (-3.08, -2.79) with mean -2.94\n"
     ]
    }
   ],
   "source": [
    "for i in results:\n",
    "    print(\n",
    "        summarize(\n",
    "            model_name=i['model_name'], \n",
    "            samples=i['samples'], \n",
    "            interval=i['interval']\n",
    "        )\n",
    "    )\n",
    "    "
   ]
  },
  {
   "cell_type": "markdown",
   "metadata": {},
   "source": [
    "As we can see from above, all of the intervals contain the mean. However, the 95% credible interval is much narrower than the 95% confidence intervals obtained above. We can get a sense of the width by actually plotting the bootstrap samples for the two frequentist models and one Bayesian model:"
   ]
  },
  {
   "cell_type": "code",
   "execution_count": 209,
   "metadata": {},
   "outputs": [
    {
     "data": {
      "image/png": "[encoded data removed]",
      "text/plain": [
       "<Figure size 720x720 with 3 Axes>"
      ]
     },
     "metadata": {
      "needs_background": "light"
     },
     "output_type": "display_data"
    }
   ],
   "source": [
    "fig, ax = plt.subplots(nrows=3, ncols=1, figsize=(10,10))\n",
    "\n",
    "for i, result in enumerate(results):\n",
    "    result['samples'].plot.hist(\n",
    "        bins=80, \n",
    "        title=result['model_name'] + ': ' + result['samples_type'] + ' of $E[Y \\mid do(X=1)] - E[Y \\mid do(X=0)]$', \n",
    "        ax=ax[i], \n",
    "        label=result['samples_type'],\n",
    "        alpha=0.5\n",
    "    )\n",
    "    ax[i].axvline(x=-3, color='r', label='true mean')\n",
    "    ax[i].axvline(x=result['samples'].mean(), color='green', label='sample mean')\n",
    "    ax[i].axvline(x=np.percentile(result['samples'], 2.5), color='blue', label='2.5-percentile')\n",
    "    ax[i].axvline(x=np.percentile(result['samples'], 97.5), color='orange', label='97.5-percentile')\n",
    "    ax[i].legend(loc='upper right')\n",
    "    ax[i].set_xlim(-5,-2)\n",
    "plt.tight_layout()"
   ]
  },
  {
   "cell_type": "markdown",
   "metadata": {},
   "source": [
    "Because we're using weakly informative priors centered at 0, the Bayesian posterior distribution gets pulled closer to 0 than the frequentist counterparts."
   ]
  },
  {
   "cell_type": "code",
   "execution_count": 44,
   "metadata": {},
   "outputs": [
    {
     "data": {
      "text/plain": [
       "87   -0.573666\n",
       "58   -1.083162\n",
       "96   -1.728001\n",
       "45   -1.222511\n",
       "97   -1.674680\n",
       "16   -1.684333\n",
       "73    1.287633\n",
       "2    -3.416970\n",
       "25   -0.264515\n",
       "43   -1.030983\n",
       "0    -0.011785\n",
       "55   -1.472651\n",
       "29   -1.037536\n",
       "75    0.326178\n",
       "64   -2.023368\n",
       "18   -0.090132\n",
       "69   -0.052656\n",
       "76   -1.022882\n",
       "35   -0.679064\n",
       "91   -0.535724\n",
       "1     0.048204\n",
       "8    -1.427146\n",
       "5    -3.841123\n",
       "6    -1.377343\n",
       "93   -2.351034\n",
       "24    1.623685\n",
       "95   -0.390571\n",
       "29   -1.037536\n",
       "35   -0.679064\n",
       "38   -1.395103\n",
       "        ...   \n",
       "69   -0.052656\n",
       "82   -0.317409\n",
       "3    -2.587894\n",
       "85    0.704214\n",
       "60   -0.549648\n",
       "55   -1.472651\n",
       "53   -1.049760\n",
       "7    -0.675275\n",
       "23   -2.087719\n",
       "91   -0.535724\n",
       "36    0.551060\n",
       "98   -1.471506\n",
       "47   -2.420601\n",
       "2    -3.416970\n",
       "79    0.100614\n",
       "63   -0.824045\n",
       "40    0.456737\n",
       "20   -0.218207\n",
       "59   -1.161846\n",
       "56   -1.742730\n",
       "34   -0.897639\n",
       "56   -1.742730\n",
       "39   -0.485043\n",
       "61    0.862746\n",
       "91   -0.535724\n",
       "10   -0.769939\n",
       "65   -0.835173\n",
       "45   -1.222511\n",
       "89   -0.428932\n",
       "42   -2.122136\n",
       "Length: 100, dtype: float64"
      ]
     },
     "execution_count": 44,
     "metadata": {},
     "output_type": "execute_result"
    }
   ],
   "source": [
    "pd.Series(z).sample(100, replace=True)"
   ]
  },
  {
   "cell_type": "code",
   "execution_count": 36,
   "metadata": {},
   "outputs": [
    {
     "data": {
      "text/plain": [
       "array([[1, 2, 3],\n",
       "       [2, 4, 6],\n",
       "       [3, 6, 9]])"
      ]
     },
     "execution_count": 36,
     "metadata": {},
     "output_type": "execute_result"
    }
   ],
   "source": [
    "np.array([[1], [2], [3]]) * np.array([1,2,3])"
   ]
  },
  {
   "cell_type": "code",
   "execution_count": 37,
   "metadata": {},
   "outputs": [],
   "source": [
    "posterior_values_per_z = z.reshape((100,1)) * time_fixed_traces['z_mu'].reshape((1, time_fixed_traces['z_mu'].shape[0]))"
   ]
  },
  {
   "cell_type": "code",
   "execution_count": null,
   "metadata": {},
   "outputs": [],
   "source": [
    "np.ones(100)"
   ]
  },
  {
   "cell_type": "code",
   "execution_count": 41,
   "metadata": {},
   "outputs": [
    {
     "data": {
      "text/plain": [
       "array([-1.00883783,  2.40225169,  0.03586726, ...,  0.87572017,\n",
       "        2.2164828 , -0.28871437])"
      ]
     },
     "execution_count": 41,
     "metadata": {},
     "output_type": "execute_result"
    }
   ],
   "source": [
    "np.random.normal(loc=1 ,scale=time_fixed_traces['y_sd'])"
   ]
  },
  {
   "cell_type": "code",
   "execution_count": 26,
   "metadata": {},
   "outputs": [
    {
     "ename": "ValueError",
     "evalue": "operands could not be broadcast together with shapes (100,) (2000,) ",
     "output_type": "error",
     "traceback": [
      "\u001b[0;31m---------------------------------------------------------------------------\u001b[0m",
      "\u001b[0;31mValueError\u001b[0m                                Traceback (most recent call last)",
      "\u001b[0;32m<ipython-input-26-8d714200f6d0>\u001b[0m in \u001b[0;36m<module>\u001b[0;34m\u001b[0m\n\u001b[0;32m----> 1\u001b[0;31m \u001b[0mz\u001b[0m \u001b[0;34m*\u001b[0m \u001b[0mtime_fixed_traces\u001b[0m\u001b[0;34m[\u001b[0m\u001b[0;34m'z_mu'\u001b[0m\u001b[0;34m]\u001b[0m\u001b[0;34m\u001b[0m\u001b[0;34m\u001b[0m\u001b[0m\n\u001b[0m",
      "\u001b[0;31mValueError\u001b[0m: operands could not be broadcast together with shapes (100,) (2000,) "
     ]
    }
   ],
   "source": [
    "z * time_fixed_traces['z_mu']"
   ]
  },
  {
   "cell_type": "markdown",
   "metadata": {},
   "source": [
    "#### Inverse Probability Treatment Weighting & Marginal Structural Models "
   ]
  },
  {
   "cell_type": "markdown",
   "metadata": {},
   "source": [
    "#### Structural Nested Mean Models & G-Estimation"
   ]
  },
  {
   "cell_type": "markdown",
   "metadata": {},
   "source": [
    "### Average Treatment Effect Over Sub-Population\n",
    "\n",
    "This is also known as $z$-_specific_ effect by Pearl. See Causal Inference in Statistics: A Primer, chapter 3."
   ]
  },
  {
   "cell_type": "markdown",
   "metadata": {},
   "source": [
    "## Time-Varying Treatments"
   ]
  },
  {
   "cell_type": "markdown",
   "metadata": {},
   "source": [
    "### No Unobserved Confounders"
   ]
  },
  {
   "cell_type": "markdown",
   "metadata": {},
   "source": [
    "### Unobserved Confounder Satisfies Sequential Ignorability"
   ]
  },
  {
   "cell_type": "markdown",
   "metadata": {},
   "source": [
    "### Unobserved Confounder Violates Sequential Ignorability"
   ]
  },
  {
   "cell_type": "markdown",
   "metadata": {},
   "source": [
    "### G-Formula"
   ]
  },
  {
   "cell_type": "markdown",
   "metadata": {},
   "source": [
    "### Inverse Probability Treatment Weighting & Marginal Structural Models "
   ]
  },
  {
   "cell_type": "markdown",
   "metadata": {},
   "source": [
    "### Structural Nested Mean Models & G-Estimation"
   ]
  },
  {
   "cell_type": "markdown",
   "metadata": {},
   "source": [
    "### Censoring"
   ]
  },
  {
   "cell_type": "code",
   "execution_count": null,
   "metadata": {},
   "outputs": [],
   "source": []
  }
 ],
 "metadata": {
  "kernelspec": {
   "display_name": "Python 3",
   "language": "python",
   "name": "python3"
  },
  "language_info": {
   "codemirror_mode": {
    "name": "ipython",
    "version": 3
   },
   "file_extension": ".py",
   "mimetype": "text/x-python",
   "name": "python",
   "nbconvert_exporter": "python",
   "pygments_lexer": "ipython3",
   "version": "3.7.3"
  }
 },
 "nbformat": 4,
 "nbformat_minor": 2
}
